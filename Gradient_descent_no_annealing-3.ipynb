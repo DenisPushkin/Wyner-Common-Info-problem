{
  "cells": [
    {
      "cell_type": "code",
      "execution_count": 1,
      "metadata": {
        "id": "lVi-HvbPxtR2"
      },
      "outputs": [],
      "source": [
        "import numpy as np\n",
        "import math\n",
        "import matplotlib.pyplot as plt\n",
        "from scipy.linalg import orth"
      ]
    },
    {
      "cell_type": "markdown",
      "metadata": {
        "id": "RxDfD1nOHJLM"
      },
      "source": [
        "# Algo"
      ]
    },
    {
      "cell_type": "code",
      "execution_count": 2,
      "metadata": {
        "id": "s3Tknqv8yRHc"
      },
      "outputs": [],
      "source": [
        "def get_simplex_affine_space_projector(d):\n",
        "  A = np.zeros([d,d-1])\n",
        "  for i in range(d-1):\n",
        "    A[i,i] = 1.\n",
        "    A[i+1,i] = -1.\n",
        "  P = orth(A)\n",
        "  return P @ P.T"
      ]
    },
    {
      "cell_type": "code",
      "execution_count": 3,
      "metadata": {
        "id": "taTrKLyB0mlC"
      },
      "outputs": [],
      "source": [
        "def unit_simplex_projector(y):\n",
        "  r = len(y)\n",
        "  y_sorted = np.sort(y)\n",
        "\n",
        "  def criterion(mu):\n",
        "    res = np.sum(np.maximum(y_sorted - mu,0))\n",
        "    return res\n",
        "\n",
        "  idx = 0\n",
        "  while criterion(y_sorted[idx]) > 1:\n",
        "    idx += 1\n",
        "  if idx == 0:\n",
        "    mu_opt = (np.sum(y_sorted) - 1) / r\n",
        "  else:\n",
        "    mu_opt = (np.sum(y_sorted[idx:]) - 1) / (r - idx)\n",
        "\n",
        "  y_projected = np.maximum(y - mu_opt, 0)\n",
        "  return y_projected"
      ]
    },
    {
      "cell_type": "code",
      "execution_count": 4,
      "metadata": {
        "id": "nWYuCH2PzrxJ"
      },
      "outputs": [],
      "source": [
        "class WynerProblemSolver:\n",
        "\n",
        "  def __init__(self, p_joint, s, n_iters, **params):\n",
        "\n",
        "    self.p_joint = p_joint\n",
        "    self.n, self.m = p_joint.shape # support size for X and Y\n",
        "    self.s = s # support size for W\n",
        "    self.n_iters = n_iters\n",
        "    self.lr_init = params['lr_init'] if 'lr_init' in params.keys() else 1e-2\n",
        "    # beta - resularizer constant\n",
        "    self.beta_init = params['beta_init'] if 'beta_init' in params.keys() else 1.0\n",
        "    self.beta_decay_factor = params['beta_decay_factor'] if 'beta_decay_factor' in params.keys() else 2.0\n",
        "    self.beta_decay_every_iters = params['beta_decay_every_iters'] if 'beta_decay_every_iters' in params.keys() else 100\n",
        "    self.beta_min = params['beta_min'] if 'beta_min' in params.keys() else 1e-6\n",
        "    self.tol = params['tol'] if 'tol' in params.keys() else 1e-6 # tolerance in acceptance criterion\n",
        "    self.eps = params['eps'] if 'eps' in params.keys() else 1e-8 # smoothing const\n",
        "    self.print_every = params['print_every'] if 'print_every' in params.keys() else None\n",
        "    # parameter of Dirichlet distribution for parameters initialization\n",
        "    self.alpha = params['alpha'] if 'alpha' in params.keys() else 1\n",
        "    self.loss_type = params['loss_type'] if 'loss_type' in params.keys() else 'mle'\n",
        "    assert self.loss_type in ['mle', 'l2'] # Maximum likelyhood estimator and l2-norm loss\n",
        "    self.optim = params['optim'] if 'optim' in params.keys() else 'GD'\n",
        "    # GD - Gradient descent, LD - Langevin Dynamics, reLD - Replica exchange Langevin dynamics.\n",
        "    # reLD is not implemented yet\n",
        "    assert self.optim in ['GD', 'LD', 'reLD']\n",
        "    self.tau1 = params['tau1'] if 'tau1' in params.keys() else 1 # tempetature for LD and reLD\n",
        "    self.tau2 = params['tau2'] if 'tau2' in params.keys() else 10 # tempetature for reLD only\n",
        "    self.tau_decay_factor = params['tau_decay_factor'] if 'tau_decay_factor' in params.keys() else None\n",
        "    self.vanish_tau_after_iter = params['vanish_tau_after_iter'] if 'vanish_tau_after_iter' in params.keys() else None\n",
        "\n",
        "    # to be initialized in self.train() method\n",
        "    self.lambdas = None\n",
        "    self.X = None\n",
        "    self.Y = None\n",
        "\n",
        "    self.lambdas_best = None\n",
        "    self.X_best = None\n",
        "    self.Y_best = None\n",
        "    self.score_best = None\n",
        "\n",
        "    self.q_joint = None\n",
        "    self.lr = None\n",
        "\n",
        "    self.p_joint_entropy = - np.sum(np.where(p_joint != 0,p_joint * np.log(p_joint), 0))\n",
        "\n",
        "    self.lambdas_affine_projector = get_simplex_affine_space_projector(self.s)\n",
        "    self.X_affine_projector = get_simplex_affine_space_projector(self.n)\n",
        "    self.Y_affine_projector = get_simplex_affine_space_projector(self.m)\n",
        "\n",
        "    self.metrics = {\n",
        "        'iter': [],\n",
        "        'lr': []\n",
        "    }\n",
        "\n",
        "  def initialize(self):\n",
        "    self.lambdas = np.random.dirichlet([self.alpha] * self.s)\n",
        "    assert math.isclose(np.sum(self.lambdas), 1)\n",
        "\n",
        "    self.X = np.random.dirichlet([self.alpha] * self.n, (self.s,))\n",
        "    assert np.allclose(self.X.sum(axis=1), 1)\n",
        "\n",
        "    self.Y = np.random.dirichlet([self.alpha] * self.m, (self.s,))\n",
        "    assert np.allclose(self.Y.sum(axis=1), 1)\n",
        "\n",
        "  def eval_MLE_loss(self, *model_params):\n",
        "    if len(model_params) == 0:\n",
        "      q_joint = self.q_joint\n",
        "    else:\n",
        "      lambdas, X, Y = model_params\n",
        "      q_joint = X.T @ np.diag(lambdas) @ Y\n",
        "    res = (-1) * np.sum(self.p_joint * np.log(q_joint+self.eps))\n",
        "    return res\n",
        "\n",
        "  def eval_L2_loss(self, *model_params):\n",
        "    if len(model_params) == 0:\n",
        "      q_joint = self.q_joint\n",
        "    else:\n",
        "      lambdas, X, Y = model_params\n",
        "      q_joint = X.T @ np.diag(lambdas) @ Y\n",
        "    res = 0.5 * np.sum(np.square(self.p_joint - q_joint))\n",
        "    return res\n",
        "\n",
        "  def eval_D_KL(self, *model_params):\n",
        "    if len(model_params) == 0:\n",
        "      q_joint = self.q_joint\n",
        "    else:\n",
        "      lambdas, X, Y = model_params\n",
        "      q_joint = X.T @ np.diag(lambdas) @ Y\n",
        "    res = (-1) * np.sum(np.where(self.p_joint != 0, self.p_joint * np.log(q_joint), 0)) - self.p_joint_entropy\n",
        "    return res\n",
        "\n",
        "  def eval_objective_loss(self, *model_params):\n",
        "    if len(model_params) == 0:\n",
        "      lambdas, X, Y = self.lambdas, self.X, self.Y\n",
        "    else:\n",
        "      lambdas, X, Y = model_params\n",
        "    res = np.sum(lambdas * (np.sum(X * np.log(X+self.eps), axis=1) + np.sum(Y * np.log(Y+self.eps), axis=1)))\n",
        "    return res\n",
        "\n",
        "  def eval_constraint_loss(self, *model_params):\n",
        "    res = self.eval_MLE_loss(*model_params) if self.loss_type == 'mle' else self.eval_L2_loss(*model_params)\n",
        "    return res\n",
        "\n",
        "  def eval_final_objective(self, *model_params):\n",
        "    res = self.eval_constraint_loss(*model_params) + self.beta_min * self.eval_objective_loss(*model_params)\n",
        "    return res\n",
        "\n",
        "  def eval_distribution_proximity(self, *model_params):\n",
        "    res = self.eval_D_KL(*model_params) if self.loss_type == 'mle' else self.eval_L2_loss(*model_params)\n",
        "    return res\n",
        "\n",
        "  def eval_MLE_grads(self, *model_params):\n",
        "    if len(model_params) == 0:\n",
        "      lambdas, X, Y = self.lambdas, self.X, self.Y\n",
        "      q_joint = self.q_joint\n",
        "    else:\n",
        "      lambdas, X, Y = model_params\n",
        "      q_joint = X.T @ np.diag(lambdas) @ Y\n",
        "    p_div_q = self.p_joint / (q_joint + self.eps)\n",
        "    lambdas_grad = (-1) * np.sum(p_div_q * (X.reshape(self.s,self.n,1) * Y.reshape(self.s,1,self.m)), axis=(1,2))\n",
        "    X_grad = (-1) * np.sum(p_div_q.reshape(1,self.n,self.m) * (lambdas.reshape(self.s,1) * Y).reshape(self.s,1,self.m), axis=2)\n",
        "    Y_grad = (-1) * np.sum(p_div_q.reshape(1,self.n,self.m) * (lambdas.reshape(self.s,1) * X).reshape(self.s,self.n,1), axis=1)\n",
        "    return lambdas_grad, X_grad, Y_grad\n",
        "\n",
        "  def eval_L2_grads(self, *model_params):\n",
        "    if len(model_params) == 0:\n",
        "      lambdas, X, Y = self.lambdas, self.X, self.Y\n",
        "      q_joint = self.q_joint\n",
        "    else:\n",
        "      lambdas, X, Y = model_params\n",
        "      q_joint = X.T @ np.diag(lambdas) @ Y\n",
        "    lambdas_grad = np.sum((q_joint - self.p_joint) * (X.reshape(self.s,self.n,1) * Y.reshape(self.s,1,self.m)), axis=(1,2))\n",
        "    X_grad = np.sum((q_joint - self.p_joint).reshape(1,self.n,self.m) * (lambdas.reshape(self.s,1) * Y).reshape(self.s,1,self.m), axis=2)\n",
        "    Y_grad = np.sum((q_joint - self.p_joint).reshape(1,self.n,self.m) * (lambdas.reshape(self.s,1) * X).reshape(self.s,self.n,1), axis=1)\n",
        "    return lambdas_grad, X_grad, Y_grad\n",
        "\n",
        "  def eval_objective_grads(self, *model_params):\n",
        "    if len(model_params) == 0:\n",
        "      lambdas, X, Y = self.lambdas, self.X, self.Y\n",
        "    else:\n",
        "      lambdas, X, Y = model_params\n",
        "    lambdas_grad = (np.sum(X * np.log(X + self.eps), axis=1) + np.sum(Y * np.log(Y + self.eps), axis=1))\n",
        "    X_grad = lambdas.reshape(self.s,1) * (1 + np.log(X + self.eps))\n",
        "    Y_grad = lambdas.reshape(self.s,1) * (1 + np.log(Y + self.eps))\n",
        "    return lambdas_grad, X_grad, Y_grad\n",
        "\n",
        "  def eval_constraint_grads(self, *model_params):\n",
        "    res = self.eval_MLE_grads(*model_params) if self.loss_type == 'mle' else self.eval_L2_grads(*model_params)\n",
        "    return res\n",
        "\n",
        "  def eval_affine_grad_norm(self, lambdas_grad, X_grad, Y_grad):\n",
        "    lambdas_affine_grad = self.lambdas_affine_projector @ lambdas_grad\n",
        "    X_affine_grad = (self.X_affine_projector @ X_grad.T).T\n",
        "    Y_affine_grad = (self.Y_affine_projector @ Y_grad.T).T\n",
        "\n",
        "    affine_grads = (lambdas_affine_grad, X_affine_grad, Y_affine_grad)\n",
        "    affine_grad_norm = math.sqrt(sum([np.sum(np.square(g)) for g in affine_grads]))\n",
        "\n",
        "    return affine_grad_norm\n",
        "\n",
        "  def gradient_descent_step(self, loss, grads, beta, n_iter):\n",
        "\n",
        "    grad_norm_squared = sum([np.sum(np.square(g)) for g in grads])\n",
        "    lambdas_grad, X_grad, Y_grad = grads\n",
        "    criterion = False\n",
        "\n",
        "    while not criterion:\n",
        "\n",
        "      lambdas_next_unprojected = self.lambdas - self.lr * lambdas_grad\n",
        "      lambdas_next = unit_simplex_projector(lambdas_next_unprojected)\n",
        "\n",
        "      X_next_unprojected = self.X - self.lr * X_grad\n",
        "      X_next = np.zeros_like(X_next_unprojected)\n",
        "      for i in range(s):\n",
        "        X_next[i] = unit_simplex_projector(X_next_unprojected[i])\n",
        "\n",
        "      Y_next_unprojected = self.Y - self.lr * Y_grad\n",
        "      Y_next = np.zeros_like(Y_next_unprojected)\n",
        "      for i in range(s):\n",
        "        Y_next[i] = unit_simplex_projector(Y_next_unprojected[i])\n",
        "\n",
        "      params_next = (lambdas_next, X_next, Y_next)\n",
        "      params_next_unprojected = (lambdas_next_unprojected, X_next_unprojected, Y_next_unprojected)\n",
        "      correction_norm_squared = sum([np.sum(np.square(p1-p2)) for p1, p2 in zip(params_next, params_next_unprojected)])\n",
        "\n",
        "      loss_next = self.eval_constraint_loss(*params_next) + \\\n",
        "                  beta * self.eval_objective_loss(*params_next)\n",
        "\n",
        "      criterion = loss_next <= loss - (self.lr/2) * grad_norm_squared + 1 / (2*self.lr) * correction_norm_squared + self.tol\n",
        "      if not criterion:\n",
        "        self.lr /= 2\n",
        "\n",
        "    self.metrics['iter'].append(n_iter+1)\n",
        "    self.metrics['lr'].append(self.lr)\n",
        "\n",
        "    self.lr *= 2\n",
        "    return params_next\n",
        "\n",
        "  def langevin_dynamics_step(self, grads, n_iter):\n",
        "\n",
        "    lambdas_grad, X_grad, Y_grad = grads\n",
        "\n",
        "    lambdas_unprojected = self.lambdas - self.lr * lambdas_grad + \\\n",
        "                          math.sqrt(2 * self.lr * self.tau1) * np.random.randn(*self.lambdas.shape)\n",
        "    lambdas_next = unit_simplex_projector(lambdas_unprojected)\n",
        "\n",
        "    X_next_unprojected = self.X - self.lr * X_grad + \\\n",
        "                          math.sqrt(2 * self.lr * self.tau1) * np.random.randn(*self.X.shape)\n",
        "    X_next = np.zeros_like(X_next_unprojected)\n",
        "    for i in range(s):\n",
        "      X_next[i] = unit_simplex_projector(X_next_unprojected[i])\n",
        "\n",
        "    Y_next_unprojected = self.Y - self.lr * Y_grad + \\\n",
        "                          math.sqrt(2 * self.lr * self.tau1) * np.random.randn(*self.Y.shape)\n",
        "    Y_next = np.zeros_like(Y_next_unprojected)\n",
        "    for i in range(s):\n",
        "      Y_next[i] = unit_simplex_projector(Y_next_unprojected[i])\n",
        "\n",
        "    if self.tau_decay_factor is not None:\n",
        "      self.tau1 /= self.tau_decay_factor\n",
        "\n",
        "    if (self.vanish_tau_after_iter is not None) and (n_iter+1 == self.vanish_tau_after_iter):\n",
        "      self.tau1 = 0\n",
        "\n",
        "    self.metrics['iter'].append(n_iter+1)\n",
        "    self.metrics['lr'].append(self.lr)\n",
        "\n",
        "    return lambdas_next, X_next, Y_next\n",
        "\n",
        "  def print_message(self, n_iter, beta, last_step_size, **params):\n",
        "\n",
        "    objective_loss = params['objective_loss'] if 'objective_loss' in params.keys() else self.eval_objective_loss()\n",
        "    disrtibution_proximity = self.eval_distribution_proximity()\n",
        "    constraint_grads = params['constraint_grads'] if 'constraint_grads' in params.keys() else self.eval_constraint_grads()\n",
        "    objective_grads = params['objective_grads'] if 'objective_grads' in params.keys() else self.eval_objective_grads()\n",
        "\n",
        "    constr_affine_grad_norm = self.eval_affine_grad_norm(*constraint_grads)\n",
        "    objective_afine_grad_norm = self.eval_affine_grad_norm(*objective_grads)\n",
        "\n",
        "    message = f'{n_iter: <5}: distr proximity = {disrtibution_proximity: .8f}, objective loss = {objective_loss: .6f}, \\\n",
        "consrt_aff_grad = {constr_affine_grad_norm:.6f}, obj_aff_grad = {objective_afine_grad_norm:.6f}, beta = {beta: .8f}'\n",
        "\n",
        "    if self.optim == 'GD':\n",
        "      message += f', lr = {self.lr: .6f}'\n",
        "    else:\n",
        "      message += f', tau1 = {self.tau1:.8f}'\n",
        "\n",
        "    if n_iter > 0:\n",
        "      message += f', step size = {last_step_size:.8f}'\n",
        "\n",
        "    print(message)\n",
        "\n",
        "  def train(self):\n",
        "    self.lr = self.lr_init\n",
        "    beta = self.beta_init\n",
        "\n",
        "    self.initialize()\n",
        "\n",
        "    self.q_joint = self.X.T @ np.diag(self.lambdas) @ self.Y\n",
        "\n",
        "    self.lambdas_best, self.X_best, self.Y_best = self.lambdas.copy(), self.X.copy(), self.Y.copy()\n",
        "    self.score_best = self.eval_final_objective()\n",
        "\n",
        "    last_step_size = None\n",
        "\n",
        "    for n_iter in range(self.n_iters):\n",
        "\n",
        "      constraint_loss = self.eval_constraint_loss()\n",
        "      objective_loss = self.eval_objective_loss()\n",
        "      loss = constraint_loss + beta * objective_loss\n",
        "\n",
        "      constraint_grads = self.eval_constraint_grads()\n",
        "      objective_grads = self.eval_objective_grads()\n",
        "      grads = [g1 + beta * g2 for g1, g2 in zip(constraint_grads, objective_grads)]\n",
        "\n",
        "      if (self.print_every is not None) and (n_iter % self.print_every == 0):\n",
        "        params = {\n",
        "            'objective_loss': objective_loss,\n",
        "            'constraint_grads': constraint_grads,\n",
        "            'objective_grads': objective_grads,\n",
        "        }\n",
        "        self.print_message(n_iter, beta, last_step_size, **params)\n",
        "\n",
        "      if self.optim == 'GD':\n",
        "        params_next = self.gradient_descent_step(loss, grads, beta, n_iter)\n",
        "      else:\n",
        "        params_next = self.langevin_dynamics_step(grads, n_iter)\n",
        "\n",
        "      params = (self.lambdas, self.X, self.Y)\n",
        "      last_step_size = math.sqrt(sum([np.sum(np.square(p1-p2)) for p1, p2 in zip(params, params_next)]))\n",
        "      self.lambdas, self.X, self.Y = params_next\n",
        "\n",
        "      new_score = self.eval_final_objective()\n",
        "      if new_score < self.score_best:\n",
        "        self.score_best = new_score\n",
        "        self.lambdas_best, self.X_best, self.Y_best = self.lambdas.copy(), self.X.copy(), self.Y.copy()\n",
        "\n",
        "      assert np.allclose(self.X.sum(axis=1), 1), f'{self.X.sum(axis=1)}'\n",
        "      assert np.allclose(self.Y.sum(axis=1), 1), f'{self.Y.sum(axis=1)}'\n",
        "      assert math.isclose(np.sum(self.lambdas), 1), f'{np.sum(self.lambdas)}'\n",
        "\n",
        "      self.q_joint = self.X.T @ np.diag(self.lambdas) @ self.Y\n",
        "\n",
        "      if (self.beta_decay_every_iters is not None) and (n_iter % self.beta_decay_every_iters == 0) and (n_iter > 0):\n",
        "        beta /= self.beta_decay_factor\n",
        "      if (self.beta_min is not None) and (beta < self.beta_min):\n",
        "        beta = self.beta_min\n",
        "\n",
        "    if self.print_every is not None:\n",
        "      self.print_message(self.n_iters, beta, last_step_size)\n",
        "\n",
        "    return self.lambdas_best, self.X_best, self.Y_best"
      ]
    },
    {
      "cell_type": "markdown",
      "metadata": {
        "id": "F90E-f17gtr7"
      },
      "source": [
        "# Doubly symmetric bynary sourse"
      ]
    },
    {
      "cell_type": "code",
      "execution_count": 5,
      "metadata": {
        "colab": {
          "base_uri": "https://localhost:8080/"
        },
        "id": "61S1zETVru8_",
        "outputId": "18735aa1-05f7-4ac4-8fa0-c61db1705f1b"
      },
      "outputs": [
        {
          "output_type": "stream",
          "name": "stdout",
          "text": [
            "lambdas_true:\n",
            "[0.5 0.5]\n",
            "X_true:\n",
            "[[0.78868 0.21132]\n",
            " [0.21132 0.78868]]\n",
            "Y_true:\n",
            "[[0.78868 0.21132]\n",
            " [0.21132 0.78868]]\n",
            "C(X,Y) =  0.43028\n"
          ]
        }
      ],
      "source": [
        "# DSBS test\n",
        "a0 = 1/3 # crossover prob\n",
        "a1 = 0.5 * (1 - math.sqrt(1-2*a0))\n",
        "p_XY = 0.5 * np.array([[1-a0, a0],\n",
        "                       [a0, 1-a0]])\n",
        "lambdas_true = np.array([1/2, 1/2])\n",
        "X_true = np.array([[1-a1, a1],\n",
        "                   [a1, 1-a1]])\n",
        "Y_true = np.array([[1-a1, a1],\n",
        "                   [a1, 1-a1]])\n",
        "def h(a):\n",
        "  return - (a * math.log2(a) + (1-a) * math.log2(1-a))\n",
        "\n",
        "C_XY_true = 1 + h(a0) - 2 * h(a1)\n",
        "\n",
        "p_XY_entropy = - np.sum(np.where(p_XY != 0,p_XY * np.log2(p_XY), 0))\n",
        "\n",
        "def evaluate_cond_entropy(lambdas, X, Y):\n",
        "    q_joint = X.T @ np.diag(lambdas) @ Y\n",
        "    res = (-1) * np.sum(lambdas * (np.sum(X * np.log2(X), axis=1) + np.sum(Y * np.log2(Y), axis=1)))\n",
        "    return res\n",
        "\n",
        "def evaluate_D_KL(lambdas, X, Y, p_joint):\n",
        "    q_joint = X.T @ np.diag(lambdas) @ Y\n",
        "    p_joiny_entropy = - np.sum(np.where(p_joint != 0,p_joint * np.log(p_joint), 0))\n",
        "    res = (-1) * np.sum(np.where(p_joint != 0, p_joint * np.log(q_joint), 0)) - p_joiny_entropy\n",
        "    return res\n",
        "\n",
        "with np.printoptions(precision=5):\n",
        "  print(f'lambdas_true:\\n{lambdas_true}')\n",
        "  print(f'X_true:\\n{X_true}')\n",
        "  print(f'Y_true:\\n{Y_true}')\n",
        "\n",
        "print(f'C(X,Y) = {C_XY_true: .5f}')"
      ]
    },
    {
      "cell_type": "code",
      "execution_count": 6,
      "metadata": {
        "colab": {
          "base_uri": "https://localhost:8080/"
        },
        "id": "JY53GT4f-zPs",
        "outputId": "fffee87f-b9d4-4002-f640-5b4c09b6e606"
      },
      "outputs": [
        {
          "output_type": "stream",
          "name": "stdout",
          "text": [
            "0    : distr proximity =  0.06882138, objective loss = -1.033665, consrt_aff_grad = 0.254843, obj_aff_grad = 1.403484, beta =  0.10000000, lr =  0.010000\n",
            "100  : distr proximity =  0.01384705, objective loss = -1.385791, consrt_aff_grad = 0.001510, obj_aff_grad = 0.016926, beta =  0.10000000, lr =  2.560000, step size = 0.00060974\n",
            "200  : distr proximity =  0.00554996, objective loss = -1.260274, consrt_aff_grad = 0.025693, obj_aff_grad = 0.513899, beta =  0.05000000, lr =  10.240000, step size = 0.00257083\n",
            "300  : distr proximity =  0.00147923, objective loss = -1.152337, consrt_aff_grad = 0.018222, obj_aff_grad = 0.728881, beta =  0.02500000, lr =  5.120000, step size = 0.00053022\n",
            "400  : distr proximity =  0.00038652, objective loss = -1.093985, consrt_aff_grad = 0.010361, obj_aff_grad = 0.828898, beta =  0.01250000, lr =  5.120000, step size = 0.00027001\n",
            "500  : distr proximity =  0.00009902, objective loss = -1.063284, consrt_aff_grad = 0.005498, obj_aff_grad = 0.879578, beta =  0.00625000, lr =  5.120000, step size = 0.00018363\n",
            "600  : distr proximity =  0.00002508, objective loss = -1.047500, consrt_aff_grad = 0.002829, obj_aff_grad = 0.905274, beta =  0.00312500, lr =  5.120000, step size = 0.00021561\n",
            "700  : distr proximity =  0.00000631, objective loss = -1.039493, consrt_aff_grad = 0.001436, obj_aff_grad = 0.918233, beta =  0.00156250, lr =  10.240000, step size = 0.00015088\n",
            "800  : distr proximity =  0.00000159, objective loss = -1.035459, consrt_aff_grad = 0.000727, obj_aff_grad = 0.924743, beta =  0.00078125, lr =  10.240000, step size = 0.00020328\n",
            "900  : distr proximity =  0.00000040, objective loss = -1.033435, consrt_aff_grad = 0.000367, obj_aff_grad = 0.928007, beta =  0.00039063, lr =  10.240000, step size = 0.00014690\n",
            "1000 : distr proximity =  0.00000010, objective loss = -1.032421, consrt_aff_grad = 0.000191, obj_aff_grad = 0.929640, beta =  0.00019531, lr =  10.240000, step size = 0.00015177\n",
            "1100 : distr proximity =  0.00000003, objective loss = -1.031913, consrt_aff_grad = 0.000117, obj_aff_grad = 0.930457, beta =  0.00009766, lr =  10.240000, step size = 0.00018896\n",
            "1200 : distr proximity =  0.00000001, objective loss = -1.031659, consrt_aff_grad = 0.000052, obj_aff_grad = 0.930868, beta =  0.00004883, lr =  5.120000, step size = 0.00012919\n",
            "1300 : distr proximity =  0.00000000, objective loss = -1.031532, consrt_aff_grad = 0.000042, obj_aff_grad = 0.931072, beta =  0.00002441, lr =  5.120000, step size = 0.00018491\n",
            "1400 : distr proximity =  0.00000000, objective loss = -1.031469, consrt_aff_grad = 0.000053, obj_aff_grad = 0.931173, beta =  0.00001221, lr =  10.240000, step size = 0.00013447\n",
            "1500 : distr proximity =  0.00000001, objective loss = -1.031437, consrt_aff_grad = 0.000077, obj_aff_grad = 0.931224, beta =  0.00000610, lr =  10.240000, step size = 0.00019902\n",
            "1600 : distr proximity =  0.00000000, objective loss = -1.031421, consrt_aff_grad = 0.000029, obj_aff_grad = 0.931251, beta =  0.00000305, lr =  5.120000, step size = 0.00014816\n",
            "1700 : distr proximity =  0.00000000, objective loss = -1.031413, consrt_aff_grad = 0.000043, obj_aff_grad = 0.931263, beta =  0.00000153, lr =  5.120000, step size = 0.00022123\n",
            "1800 : distr proximity =  0.00000000, objective loss = -1.031409, consrt_aff_grad = 0.000064, obj_aff_grad = 0.931269, beta =  0.00000076, lr =  10.240000, step size = 0.00016430\n",
            "1900 : distr proximity =  0.00000000, objective loss = -1.031407, consrt_aff_grad = 0.000024, obj_aff_grad = 0.931273, beta =  0.00000038, lr =  5.120000, step size = 0.00012291\n",
            "2000 : distr proximity =  0.00000000, objective loss = -1.031406, consrt_aff_grad = 0.000035, obj_aff_grad = 0.931274, beta =  0.00000019, lr =  5.120000, step size = 0.00018399\n",
            "2100 : distr proximity =  0.00000000, objective loss = -1.031406, consrt_aff_grad = 0.000053, obj_aff_grad = 0.931275, beta =  0.00000010, lr =  10.240000, step size = 0.00013681\n",
            "2200 : distr proximity =  0.00000001, objective loss = -1.031406, consrt_aff_grad = 0.000079, obj_aff_grad = 0.931274, beta =  0.00000010, lr =  10.240000, step size = 0.00020481\n",
            "2300 : distr proximity =  0.00000000, objective loss = -1.031406, consrt_aff_grad = 0.000030, obj_aff_grad = 0.931275, beta =  0.00000010, lr =  5.120000, step size = 0.00015331\n",
            "2400 : distr proximity =  0.00000000, objective loss = -1.031406, consrt_aff_grad = 0.000044, obj_aff_grad = 0.931275, beta =  0.00000010, lr =  10.240000, step size = 0.00011401\n",
            "2500 : distr proximity =  0.00000000, objective loss = -1.031406, consrt_aff_grad = 0.000066, obj_aff_grad = 0.931274, beta =  0.00000010, lr =  10.240000, step size = 0.00017067\n",
            "C_XY_estim = 0.43029\n"
          ]
        }
      ],
      "source": [
        "p_joint=p_XY\n",
        "s=2\n",
        "n_iters=2500\n",
        "params = {}\n",
        "params['lr_init']=0.01\n",
        "params['beta_init']=1e-1\n",
        "params['beta_decay_factor']=2\n",
        "params['beta_decay_every_iters']=100\n",
        "params['beta_min'] = 1e-7\n",
        "params['tol']=1e-8\n",
        "params['eps']=1e-8\n",
        "params['print_every'] = 100\n",
        "params['alpha'] = 1\n",
        "params['loss_type'] = 'l2'\n",
        "params['optim'] = 'GD'\n",
        "params['tau1'] = 1\n",
        "params['tau2'] = 10\n",
        "\n",
        "solver_GD = WynerProblemSolver(p_joint, s, n_iters, **params)\n",
        "lambdas, X, Y = solver_GD.train()\n",
        "\n",
        "cond_entropy = evaluate_cond_entropy(lambdas, X, Y)\n",
        "C_XY_estim = p_XY_entropy - cond_entropy\n",
        "print(f'C_XY_estim = {C_XY_estim:.5f}')"
      ]
    },
    {
      "cell_type": "code",
      "execution_count": 7,
      "metadata": {
        "colab": {
          "base_uri": "https://localhost:8080/"
        },
        "id": "5ZWbdDz9CMhc",
        "outputId": "d91854f8-deba-45cd-a74d-580d498f9226"
      },
      "outputs": [
        {
          "output_type": "stream",
          "name": "stdout",
          "text": [
            "0    : distr proximity =  0.02514112, objective loss = -1.103744, consrt_aff_grad = 0.139611, obj_aff_grad = 1.018792, beta =  0.10000000, tau1 = 0.00000000\n",
            "100  : distr proximity =  0.01370050, objective loss = -1.384022, consrt_aff_grad = 0.005372, obj_aff_grad = 0.063827, beta =  0.10000000, tau1 = 0.00000000, step size = 0.00108117\n",
            "200  : distr proximity =  0.00636021, objective loss = -1.276128, consrt_aff_grad = 0.025859, obj_aff_grad = 0.478843, beta =  0.05000000, tau1 = 0.00000000, step size = 0.00204200\n",
            "300  : distr proximity =  0.00148838, objective loss = -1.152160, consrt_aff_grad = 0.018257, obj_aff_grad = 0.730249, beta =  0.02500000, tau1 = 0.00000000, step size = 0.00029205\n",
            "400  : distr proximity =  0.00038864, objective loss = -1.093553, consrt_aff_grad = 0.010394, obj_aff_grad = 0.831580, beta =  0.01250000, tau1 = 0.00000000, step size = 0.00017211\n",
            "500  : distr proximity =  0.00009949, objective loss = -1.062787, consrt_aff_grad = 0.005515, obj_aff_grad = 0.882493, beta =  0.00625000, tau1 = 0.00000000, step size = 0.00009018\n",
            "600  : distr proximity =  0.00002518, objective loss = -1.046989, consrt_aff_grad = 0.002838, obj_aff_grad = 0.908207, beta =  0.00312500, tau1 = 0.00000000, step size = 0.00004578\n",
            "700  : distr proximity =  0.00000634, objective loss = -1.038978, consrt_aff_grad = 0.001439, obj_aff_grad = 0.921155, beta =  0.00156250, tau1 = 0.00000000, step size = 0.00002302\n",
            "800  : distr proximity =  0.00000159, objective loss = -1.034943, consrt_aff_grad = 0.000725, obj_aff_grad = 0.927655, beta =  0.00078125, tau1 = 0.00000000, step size = 0.00001154\n",
            "900  : distr proximity =  0.00000040, objective loss = -1.032919, consrt_aff_grad = 0.000364, obj_aff_grad = 0.930911, beta =  0.00039063, tau1 = 0.00000000, step size = 0.00000577\n",
            "1000 : distr proximity =  0.00000010, objective loss = -1.031904, consrt_aff_grad = 0.000182, obj_aff_grad = 0.932542, beta =  0.00019531, tau1 = 0.00000000, step size = 0.00000289\n",
            "1100 : distr proximity =  0.00000002, objective loss = -1.031397, consrt_aff_grad = 0.000091, obj_aff_grad = 0.933357, beta =  0.00009766, tau1 = 0.00000000, step size = 0.00000144\n",
            "1200 : distr proximity =  0.00000001, objective loss = -1.031143, consrt_aff_grad = 0.000046, obj_aff_grad = 0.933765, beta =  0.00004883, tau1 = 0.00000000, step size = 0.00000072\n",
            "1300 : distr proximity =  0.00000000, objective loss = -1.031016, consrt_aff_grad = 0.000023, obj_aff_grad = 0.933969, beta =  0.00002441, tau1 = 0.00000000, step size = 0.00000036\n",
            "1400 : distr proximity =  0.00000000, objective loss = -1.030953, consrt_aff_grad = 0.000011, obj_aff_grad = 0.934071, beta =  0.00001221, tau1 = 0.00000000, step size = 0.00000018\n",
            "1500 : distr proximity =  0.00000000, objective loss = -1.030921, consrt_aff_grad = 0.000006, obj_aff_grad = 0.934122, beta =  0.00000610, tau1 = 0.00000000, step size = 0.00000009\n",
            "1600 : distr proximity =  0.00000000, objective loss = -1.030905, consrt_aff_grad = 0.000003, obj_aff_grad = 0.934147, beta =  0.00000305, tau1 = 0.00000000, step size = 0.00000005\n",
            "1700 : distr proximity =  0.00000000, objective loss = -1.030897, consrt_aff_grad = 0.000001, obj_aff_grad = 0.934160, beta =  0.00000153, tau1 = 0.00000000, step size = 0.00000002\n",
            "1800 : distr proximity =  0.00000000, objective loss = -1.030893, consrt_aff_grad = 0.000001, obj_aff_grad = 0.934167, beta =  0.00000076, tau1 = 0.00000000, step size = 0.00000001\n",
            "1900 : distr proximity =  0.00000000, objective loss = -1.030891, consrt_aff_grad = 0.000000, obj_aff_grad = 0.934170, beta =  0.00000038, tau1 = 0.00000000, step size = 0.00000001\n",
            "2000 : distr proximity =  0.00000000, objective loss = -1.030890, consrt_aff_grad = 0.000000, obj_aff_grad = 0.934171, beta =  0.00000019, tau1 = 0.00000000, step size = 0.00000000\n",
            "2100 : distr proximity =  0.00000000, objective loss = -1.030890, consrt_aff_grad = 0.000000, obj_aff_grad = 0.934172, beta =  0.00000010, tau1 = 0.00000000, step size = 0.00000000\n",
            "2200 : distr proximity =  0.00000000, objective loss = -1.030890, consrt_aff_grad = 0.000000, obj_aff_grad = 0.934172, beta =  0.00000010, tau1 = 0.00000000, step size = 0.00000000\n",
            "2300 : distr proximity =  0.00000000, objective loss = -1.030890, consrt_aff_grad = 0.000000, obj_aff_grad = 0.934172, beta =  0.00000010, tau1 = 0.00000000, step size = 0.00000000\n",
            "2400 : distr proximity =  0.00000000, objective loss = -1.030890, consrt_aff_grad = 0.000000, obj_aff_grad = 0.934172, beta =  0.00000010, tau1 = 0.00000000, step size = 0.00000000\n",
            "2500 : distr proximity =  0.00000000, objective loss = -1.030890, consrt_aff_grad = 0.000000, obj_aff_grad = 0.934172, beta =  0.00000010, tau1 = 0.00000000, step size = 0.00000000\n",
            "C_XY_estim = 0.43104\n"
          ]
        }
      ],
      "source": [
        "p_joint=p_XY\n",
        "s=2\n",
        "n_iters=2500\n",
        "params = {}\n",
        "params['lr_init']=1\n",
        "params['beta_init']=1e-1\n",
        "params['beta_decay_factor']=2\n",
        "params['beta_decay_every_iters']=100\n",
        "params['beta_min'] = 1e-7\n",
        "params['tol']=1e-8\n",
        "params['eps']=1e-8\n",
        "params['print_every'] = 100\n",
        "params['alpha'] = 1\n",
        "params['loss_type'] = 'l2'\n",
        "params['optim'] = 'LD'\n",
        "params['tau1'] = 0\n",
        "params['tau2'] = 10\n",
        "params['tau_decay_factor'] = 1.0001\n",
        "params['vanish_tau_after_iter'] = 16000\n",
        "\n",
        "solver_LD = WynerProblemSolver(p_joint, s, n_iters, **params)\n",
        "lambdas, X, Y = solver_LD.train()\n",
        "\n",
        "cond_entropy = evaluate_cond_entropy(lambdas, X, Y)\n",
        "C_XY_estim = p_XY_entropy - cond_entropy\n",
        "print(f'C_XY_estim = {C_XY_estim:.5f}')"
      ]
    },
    {
      "cell_type": "code",
      "execution_count": null,
      "metadata": {
        "colab": {
          "base_uri": "https://localhost:8080/",
          "height": 449
        },
        "id": "lt9D711wD1jg",
        "outputId": "b5407105-59bf-451e-fbcf-50359e705465"
      },
      "outputs": [
        {
          "data": {
            "image/png": "[encoded data removed]",
            "text/plain": [
              "<Figure size 640x480 with 1 Axes>"
            ]
          },
          "metadata": {},
          "output_type": "display_data"
        }
      ],
      "source": [
        "plt.scatter(solver_GD.metrics['iter'], solver_GD.metrics['lr'], label='adaptive lr', s=1)\n",
        "plt.scatter(solver_LD.metrics['iter'], solver_LD.metrics['lr'], label='const lr', s=1)\n",
        "\n",
        "plt.xlabel('iteration')\n",
        "plt.ylabel('learning rate')\n",
        "#plt.yscale('log')\n",
        "\n",
        "plt.legend()\n",
        "plt.show()"
      ]
    },
    {
      "cell_type": "code",
      "execution_count": null,
      "metadata": {
        "colab": {
          "base_uri": "https://localhost:8080/"
        },
        "id": "oQ4S9wKp5EyP",
        "outputId": "1cf27a71-d7b7-4f5f-d434-4cdf52eeb051"
      },
      "outputs": [
        {
          "name": "stdout",
          "output_type": "stream",
          "text": [
            "proximity =  0.00000000, lambda_min =  0.49527, C_XY_estim - C_XY_true =  0.000014\n",
            "proximity =  0.00000000, lambda_min =  0.49582, C_XY_estim - C_XY_true =  0.000012\n",
            "proximity =  0.00000000, lambda_min =  0.49793, C_XY_estim - C_XY_true =  0.000001\n",
            "proximity =  0.00000000, lambda_min =  0.49899, C_XY_estim - C_XY_true = -0.000000\n",
            "proximity =  0.00000000, lambda_min =  0.49699, C_XY_estim - C_XY_true =  0.000005\n",
            "proximity =  0.00000000, lambda_min =  0.49561, C_XY_estim - C_XY_true =  0.000010\n",
            "proximity =  0.00000000, lambda_min =  0.49779, C_XY_estim - C_XY_true =  0.000003\n",
            "proximity =  0.00000000, lambda_min =  0.49546, C_XY_estim - C_XY_true =  0.000013\n",
            "proximity =  0.00000000, lambda_min =  0.49524, C_XY_estim - C_XY_true =  0.000014\n",
            "proximity =  0.00000000, lambda_min =  0.49801, C_XY_estim - C_XY_true =  0.000002\n",
            "proximity =  0.00000000, lambda_min =  0.49714, C_XY_estim - C_XY_true =  0.000004\n",
            "proximity =  0.00000000, lambda_min =  0.49891, C_XY_estim - C_XY_true =  0.000000\n",
            "proximity =  0.00000000, lambda_min =  0.49970, C_XY_estim - C_XY_true = -0.000006\n",
            "proximity =  0.01388889, lambda_min =  0.00000, C_XY_estim - C_XY_true = -0.511985\n",
            "proximity =  0.01388889, lambda_min =  0.00000, C_XY_estim - C_XY_true = -0.511985\n",
            "proximity =  0.00000000, lambda_min =  0.49640, C_XY_estim - C_XY_true =  0.000008\n",
            "proximity =  0.00000000, lambda_min =  0.49733, C_XY_estim - C_XY_true =  0.000004\n",
            "proximity =  0.00000000, lambda_min =  0.49638, C_XY_estim - C_XY_true =  0.000006\n",
            "proximity =  0.00000000, lambda_min =  0.49604, C_XY_estim - C_XY_true =  0.000011\n",
            "proximity =  0.00000000, lambda_min =  0.49680, C_XY_estim - C_XY_true =  0.000006\n",
            "proximity =  0.00000000, lambda_min =  0.49809, C_XY_estim - C_XY_true =  0.000002\n",
            "proximity =  0.00000000, lambda_min =  0.49576, C_XY_estim - C_XY_true =  0.000011\n",
            "proximity =  0.01388889, lambda_min =  0.00000, C_XY_estim - C_XY_true = -0.511985\n",
            "proximity =  0.00000000, lambda_min =  0.49847, C_XY_estim - C_XY_true =  0.000000\n",
            "proximity =  0.00000000, lambda_min =  0.49954, C_XY_estim - C_XY_true = -0.000001\n",
            "proximity =  0.00000000, lambda_min =  0.49930, C_XY_estim - C_XY_true = -0.000001\n",
            "proximity =  0.00000000, lambda_min =  0.49683, C_XY_estim - C_XY_true =  0.000006\n",
            "proximity =  0.00000000, lambda_min =  0.49679, C_XY_estim - C_XY_true =  0.000007\n",
            "proximity =  0.00000000, lambda_min =  0.49615, C_XY_estim - C_XY_true =  0.000010\n",
            "proximity =  0.00000000, lambda_min =  0.49862, C_XY_estim - C_XY_true =  0.000000\n",
            "proximity =  0.00000000, lambda_min =  0.49577, C_XY_estim - C_XY_true =  0.000012\n",
            "proximity =  0.00000000, lambda_min =  0.49865, C_XY_estim - C_XY_true = -0.000005\n",
            "proximity =  0.00000000, lambda_min =  0.49812, C_XY_estim - C_XY_true = -0.000001\n",
            "proximity =  0.00000000, lambda_min =  0.49770, C_XY_estim - C_XY_true =  0.000003\n",
            "proximity =  0.01388889, lambda_min =  0.00000, C_XY_estim - C_XY_true = -0.511985\n",
            "proximity =  0.00000000, lambda_min =  0.49615, C_XY_estim - C_XY_true =  0.000009\n",
            "proximity =  0.00000000, lambda_min =  0.49623, C_XY_estim - C_XY_true =  0.000009\n",
            "proximity =  0.00000000, lambda_min =  0.49907, C_XY_estim - C_XY_true = -0.000001\n",
            "proximity =  0.00000000, lambda_min =  0.49789, C_XY_estim - C_XY_true =  0.000003\n",
            "proximity =  0.00000000, lambda_min =  0.49852, C_XY_estim - C_XY_true =  0.000001\n",
            "proximity =  0.00000000, lambda_min =  0.49834, C_XY_estim - C_XY_true =  0.000000\n",
            "proximity =  0.00000000, lambda_min =  0.49639, C_XY_estim - C_XY_true =  0.000009\n",
            "proximity =  0.00000000, lambda_min =  0.49985, C_XY_estim - C_XY_true = -0.000001\n",
            "proximity =  0.00000000, lambda_min =  0.49693, C_XY_estim - C_XY_true =  0.000004\n",
            "proximity =  0.01388889, lambda_min =  0.00000, C_XY_estim - C_XY_true = -0.511985\n",
            "proximity =  0.00000000, lambda_min =  0.46410, C_XY_estim - C_XY_true =  0.000891\n",
            "proximity =  0.01388889, lambda_min =  0.00000, C_XY_estim - C_XY_true = -0.511985\n",
            "proximity =  0.00000000, lambda_min =  0.49738, C_XY_estim - C_XY_true =  0.000002\n",
            "proximity =  0.00000000, lambda_min =  0.49661, C_XY_estim - C_XY_true =  0.000008\n",
            "proximity =  0.00000000, lambda_min =  0.49823, C_XY_estim - C_XY_true =  0.000001\n"
          ]
        }
      ],
      "source": [
        "p_joint=p_XY\n",
        "s=2\n",
        "n_iters=2500\n",
        "params = {}\n",
        "params['lr_init']=0.01\n",
        "params['beta_init']=0.1\n",
        "params['beta_decay_factor']=2\n",
        "params['beta_decay_every_iters']=100\n",
        "params['beta_min'] = 1e-7\n",
        "params['tol']=1e-8\n",
        "params['eps']=1e-8\n",
        "params['print_every'] = None\n",
        "params['alpha'] = 1\n",
        "params['loss_type'] = 'l2'\n",
        "params['optim'] = 'GD'\n",
        "params['tau1'] = 1\n",
        "params['tau2'] = 10\n",
        "\n",
        "lambdas_min_GD = []\n",
        "C_XY_estim_GD = []\n",
        "proximity_GD = []\n",
        "for _ in range(50):\n",
        "  solver_GD = WynerProblemSolver(p_joint, s, n_iters, **params)\n",
        "  lambdas, X, Y = solver_GD.train()\n",
        "  lambdas_min_GD.append(lambdas.min())\n",
        "  cond_entropy = evaluate_cond_entropy(lambdas, X, Y)\n",
        "  C_XY_estim_GD.append(p_XY_entropy - cond_entropy)\n",
        "  proximity_GD.append(solver_GD.eval_distribution_proximity(lambdas, X, Y))\n",
        "  print(f'proximity = {proximity_GD[-1]: .8f}, lambda_min = {lambdas_min_GD[-1]: .5f}, C_XY_estim - C_XY_true = {C_XY_estim_GD[-1] - C_XY_true: .6f}')"
      ]
    },
    {
      "cell_type": "code",
      "execution_count": null,
      "metadata": {
        "colab": {
          "base_uri": "https://localhost:8080/"
        },
        "id": "xHLyT3J3HoR1",
        "outputId": "593f87bc-2db8-4212-d363-090c4d0dbe18"
      },
      "outputs": [
        {
          "name": "stdout",
          "output_type": "stream",
          "text": [
            "precision = 0.000025, recall = 88.0%\n"
          ]
        }
      ],
      "source": [
        "proximity_GD = np.array(proximity_GD)\n",
        "C_XY_estim_GD = np.array(C_XY_estim_GD)\n",
        "\n",
        "mask = proximity_GD < 1e-7\n",
        "\n",
        "recall = np.sum(mask) / len(proximity_GD)\n",
        "precision = np.mean(C_XY_estim_GD[mask] - C_XY_true)\n",
        "\n",
        "print(f'precision = {precision:.6f}, recall = {100*recall}%')"
      ]
    },
    {
      "cell_type": "code",
      "execution_count": null,
      "metadata": {
        "colab": {
          "base_uri": "https://localhost:8080/"
        },
        "id": "6lMXbFYIVbYl",
        "outputId": "2834e413-2811-4dbc-a89c-3607294ab465"
      },
      "outputs": [
        {
          "name": "stdout",
          "output_type": "stream",
          "text": [
            "proximity =  0.00000000, lambda_min =  0.34494, C_XY_estim - C_XY_true =  0.027703\n",
            "proximity =  0.00000000, lambda_min =  0.45349, C_XY_estim - C_XY_true =  0.001529\n",
            "proximity =  0.00000000, lambda_min =  0.41535, C_XY_estim - C_XY_true =  0.005256\n",
            "proximity =  0.01388889, lambda_min =  0.00000, C_XY_estim - C_XY_true = -0.511985\n",
            "proximity =  0.00000000, lambda_min =  0.43608, C_XY_estim - C_XY_true =  0.002935\n",
            "proximity =  0.00000000, lambda_min =  0.33958, C_XY_estim - C_XY_true =  0.024271\n",
            "proximity =  0.01388889, lambda_min =  0.00000, C_XY_estim - C_XY_true = -0.511985\n",
            "proximity =  0.00000000, lambda_min =  0.49082, C_XY_estim - C_XY_true =  0.000058\n",
            "proximity =  0.00000000, lambda_min =  0.44167, C_XY_estim - C_XY_true =  0.002421\n",
            "proximity =  0.00000000, lambda_min =  0.35141, C_XY_estim - C_XY_true =  0.022762\n",
            "proximity =  0.00000000, lambda_min =  0.48450, C_XY_estim - C_XY_true =  0.000172\n",
            "proximity =  0.00000000, lambda_min =  0.44947, C_XY_estim - C_XY_true =  0.001837\n",
            "proximity =  0.00000000, lambda_min =  0.48499, C_XY_estim - C_XY_true =  0.000171\n",
            "proximity =  0.00000000, lambda_min =  0.48051, C_XY_estim - C_XY_true =  0.000263\n",
            "proximity =  0.00000000, lambda_min =  0.47354, C_XY_estim - C_XY_true =  0.000486\n",
            "proximity =  0.00000000, lambda_min =  0.47869, C_XY_estim - C_XY_true =  0.000329\n",
            "proximity =  0.00000000, lambda_min =  0.39864, C_XY_estim - C_XY_true =  0.007743\n",
            "proximity =  0.00000000, lambda_min =  0.46425, C_XY_estim - C_XY_true =  0.000897\n",
            "proximity =  0.00000000, lambda_min =  0.48732, C_XY_estim - C_XY_true =  0.000123\n",
            "proximity =  0.01388889, lambda_min =  0.00000, C_XY_estim - C_XY_true = -0.511985\n",
            "proximity =  0.00000000, lambda_min =  0.41303, C_XY_estim - C_XY_true =  0.005577\n",
            "proximity =  0.01388889, lambda_min =  0.00000, C_XY_estim - C_XY_true = -0.511985\n",
            "proximity =  0.01388889, lambda_min =  0.00000, C_XY_estim - C_XY_true = -0.511985\n",
            "proximity =  0.00000000, lambda_min =  0.39149, C_XY_estim - C_XY_true =  0.009221\n",
            "proximity =  0.00000000, lambda_min =  0.34797, C_XY_estim - C_XY_true =  0.020210\n",
            "proximity =  0.00000000, lambda_min =  0.45489, C_XY_estim - C_XY_true =  0.001432\n",
            "proximity =  0.00000000, lambda_min =  0.49238, C_XY_estim - C_XY_true =  0.000047\n",
            "proximity =  0.00000000, lambda_min =  0.41409, C_XY_estim - C_XY_true =  0.005423\n",
            "proximity =  0.01388889, lambda_min =  0.00000, C_XY_estim - C_XY_true = -0.511985\n",
            "proximity =  0.01388889, lambda_min =  0.00000, C_XY_estim - C_XY_true = -0.511985\n",
            "proximity =  0.00000000, lambda_min =  0.37376, C_XY_estim - C_XY_true =  0.012677\n",
            "proximity =  0.00000000, lambda_min =  0.47363, C_XY_estim - C_XY_true =  0.000483\n",
            "proximity =  0.01388889, lambda_min =  0.00000, C_XY_estim - C_XY_true = -0.511985\n",
            "proximity =  0.00000000, lambda_min =  0.42291, C_XY_estim - C_XY_true =  0.004408\n",
            "proximity =  0.00000000, lambda_min =  0.34644, C_XY_estim - C_XY_true =  0.020499\n",
            "proximity =  0.00000000, lambda_min =  0.44276, C_XY_estim - C_XY_true =  0.002326\n",
            "proximity =  0.01388889, lambda_min =  0.00000, C_XY_estim - C_XY_true = -0.511985\n",
            "proximity =  0.00000000, lambda_min =  0.47824, C_XY_estim - C_XY_true =  0.000347\n",
            "proximity =  0.00000000, lambda_min =  0.42534, C_XY_estim - C_XY_true =  0.004034\n",
            "proximity =  0.00000000, lambda_min =  0.38421, C_XY_estim - C_XY_true =  0.010675\n",
            "proximity =  0.00000000, lambda_min =  0.37670, C_XY_estim - C_XY_true =  0.012303\n",
            "proximity =  0.00000000, lambda_min =  0.34015, C_XY_estim - C_XY_true =  0.023982\n",
            "proximity =  0.00000000, lambda_min =  0.36058, C_XY_estim - C_XY_true =  0.016000\n",
            "proximity =  0.00000000, lambda_min =  0.35481, C_XY_estim - C_XY_true =  0.019618\n",
            "proximity =  0.00000000, lambda_min =  0.34274, C_XY_estim - C_XY_true =  0.025849\n",
            "proximity =  0.00000000, lambda_min =  0.30719, C_XY_estim - C_XY_true =  0.037344\n",
            "proximity =  0.01388889, lambda_min =  0.00000, C_XY_estim - C_XY_true = -0.511985\n",
            "proximity =  0.00000000, lambda_min =  0.37934, C_XY_estim - C_XY_true =  0.011409\n",
            "proximity =  0.00000000, lambda_min =  0.43839, C_XY_estim - C_XY_true =  0.002723\n",
            "proximity =  0.01388889, lambda_min =  0.00000, C_XY_estim - C_XY_true = -0.511985\n"
          ]
        }
      ],
      "source": [
        "p_joint=p_XY\n",
        "s=2\n",
        "n_iters=2500\n",
        "params = {}\n",
        "params['lr_init']=0.1\n",
        "params['beta_init']=1e-1\n",
        "params['beta_decay_factor']=2\n",
        "params['beta_decay_every_iters']=100\n",
        "params['beta_min'] = 1e-7\n",
        "params['tol']=1e-8\n",
        "params['eps']=1e-8\n",
        "params['print_every'] = None\n",
        "params['alpha'] = 1\n",
        "params['loss_type'] = 'l2'\n",
        "params['optim'] = 'LD'\n",
        "params['tau1'] = 0\n",
        "params['tau2'] = 10\n",
        "params['tau_decay_factor'] = 1.0001\n",
        "params['vanish_tau_after_iter'] = 16000\n",
        "\n",
        "lambdas_min_LD = []\n",
        "C_XY_estim_LD = []\n",
        "proximity_LD = []\n",
        "for _ in range(50):\n",
        "  solver_LD = WynerProblemSolver(p_joint, s, n_iters, **params)\n",
        "  lambdas, X, Y = solver_LD.train()\n",
        "  lambdas_min_LD.append(lambdas.min())\n",
        "  cond_entropy = evaluate_cond_entropy(lambdas, X, Y)\n",
        "  C_XY_estim_LD.append(p_XY_entropy - cond_entropy)\n",
        "  proximity_LD.append(solver_LD.eval_distribution_proximity(lambdas, X, Y))\n",
        "  print(f'proximity = {proximity_LD[-1]: .8f}, lambda_min = {lambdas_min_LD[-1]: .5f}, C_XY_estim - C_XY_true = {C_XY_estim_LD[-1] - C_XY_true: .6f}')"
      ]
    },
    {
      "cell_type": "code",
      "execution_count": null,
      "metadata": {
        "colab": {
          "base_uri": "https://localhost:8080/"
        },
        "id": "cAiZe_ySKIUU",
        "outputId": "80de3e38-1dcb-4a13-dc85-cb81c9498d28"
      },
      "outputs": [
        {
          "name": "stdout",
          "output_type": "stream",
          "text": [
            "precision = 0.008860, recall = 78.0%\n"
          ]
        }
      ],
      "source": [
        "proximity_LD = np.array(proximity_LD)\n",
        "C_XY_estim_LD = np.array(C_XY_estim_LD)\n",
        "\n",
        "mask = proximity_LD < 1e-7\n",
        "\n",
        "recall = np.sum(mask) / len(proximity_LD)\n",
        "precision = np.mean(C_XY_estim_LD[mask] - C_XY_true)\n",
        "\n",
        "print(f'precision = {precision:.6f}, recall = {100*recall}%')"
      ]
    },
    {
      "cell_type": "markdown",
      "metadata": {
        "id": "GQ1Dwb7UiLpJ"
      },
      "source": [
        "# Combination of doubly symmetric bynary sourses"
      ]
    },
    {
      "cell_type": "markdown",
      "metadata": {
        "id": "kCZuWVVEiPI0"
      },
      "source": [
        "## k = 2"
      ]
    },
    {
      "cell_type": "code",
      "execution_count": 8,
      "metadata": {
        "id": "-S8UMC_Nihe1"
      },
      "outputs": [],
      "source": [
        "alpha_1, alpha_2 = 0.2, 0.4\n",
        "a1 = 0.5 * (1 - math.sqrt(1-2*alpha_1))\n",
        "a2 = 0.5 * (1 - math.sqrt(1-2*alpha_2))\n",
        "\n",
        "p_XY_1 = 0.5 * np.array([[1-alpha_1, alpha_1],\n",
        "                       [alpha_1, 1-alpha_1]])\n",
        "lambdas_1 = np.array([1/2, 1/2])\n",
        "X_1 = np.array([[1-a1, a1],\n",
        "                   [a1, 1-a1]])\n",
        "Y_1 = np.array([[1-a1, a1],\n",
        "                   [a1, 1-a1]])\n",
        "\n",
        "p_XY_2 = 0.5 * np.array([[1-alpha_2, alpha_2],\n",
        "                       [alpha_2, 1-alpha_2]])\n",
        "lambdas_2 = np.array([1/2, 1/2])\n",
        "X_2 = np.array([[1-a2, a2],\n",
        "                   [a2, 1-a2]])\n",
        "Y_2 = np.array([[1-a2, a2],\n",
        "                   [a2, 1-a2]])\n",
        "\n",
        "p_XY = np.zeros([4,4])\n",
        "for i in range(4):\n",
        "  for j in range(4):\n",
        "    x1 = i // 2\n",
        "    x2 = i % 2\n",
        "    y1 = j // 2\n",
        "    y2 = j % 2\n",
        "    p_XY[i,j] = p_XY_1[x1,y1] * p_XY_2[x2,y2]\n",
        "\n",
        "lambdas_true = np.zeros((4,))\n",
        "X_true = np.zeros([4,4])\n",
        "Y_true = np.zeros([4,4])\n",
        "\n",
        "for k in range(4):\n",
        "  w1 = k // 2\n",
        "  w2 = k % 2\n",
        "  lambdas_true[k] = lambdas_1[w1] * lambdas_2[w2]\n",
        "  for i in range(4):\n",
        "    x1 = i // 2\n",
        "    x2 = i % 2\n",
        "    X_true[k,i] = X_1[w1,x1] * X_2[w2,x2]\n",
        "  for j in range(4):\n",
        "    y1 = j // 2\n",
        "    y2 = j % 2\n",
        "    Y_true[k,j] = Y_1[w1,y1] * Y_2[w2,y2]"
      ]
    },
    {
      "cell_type": "code",
      "execution_count": 9,
      "metadata": {
        "colab": {
          "base_uri": "https://localhost:8080/"
        },
        "id": "q3ehUhcw1kwT",
        "outputId": "5e914270-a63b-49e3-ed9a-b3a249c4365d"
      },
      "outputs": [
        {
          "output_type": "execute_result",
          "data": {
            "text/plain": [
              "array([[0.12, 0.08, 0.03, 0.02],\n",
              "       [0.08, 0.12, 0.02, 0.03],\n",
              "       [0.03, 0.02, 0.12, 0.08],\n",
              "       [0.02, 0.03, 0.08, 0.12]])"
            ]
          },
          "metadata": {},
          "execution_count": 9
        }
      ],
      "source": [
        "X_true.T @ np.diag(lambdas_true) @ Y_true"
      ]
    },
    {
      "cell_type": "code",
      "execution_count": 10,
      "metadata": {
        "colab": {
          "base_uri": "https://localhost:8080/"
        },
        "id": "rkI-EFaO10gT",
        "outputId": "28b876f9-2fed-4e8c-f1df-7b2d8b0f9c91"
      },
      "outputs": [
        {
          "output_type": "execute_result",
          "data": {
            "text/plain": [
              "array([[0.12, 0.08, 0.03, 0.02],\n",
              "       [0.08, 0.12, 0.02, 0.03],\n",
              "       [0.03, 0.02, 0.12, 0.08],\n",
              "       [0.02, 0.03, 0.08, 0.12]])"
            ]
          },
          "metadata": {},
          "execution_count": 10
        }
      ],
      "source": [
        "p_XY"
      ]
    },
    {
      "cell_type": "code",
      "execution_count": 11,
      "metadata": {
        "colab": {
          "base_uri": "https://localhost:8080/"
        },
        "id": "1UtCvZcc2TuN",
        "outputId": "4ee484d4-7b15-43e9-e3c9-de6a7b0b47e0"
      },
      "outputs": [
        {
          "output_type": "stream",
          "name": "stdout",
          "text": [
            "C_1 =  0.70590, C_2 =  0.26997\n"
          ]
        }
      ],
      "source": [
        "def binary_entropy(a):\n",
        "  return - (a * math.log2(a) + (1-a) * math.log2(1-a))\n",
        "\n",
        "def eval_Wyners_commom_info_DSBS(alpha):\n",
        "  a = 0.5 * (1 - math.sqrt(1-2*alpha))\n",
        "  return 1 + binary_entropy(alpha) - 2 * binary_entropy(a)\n",
        "\n",
        "C_1 = eval_Wyners_commom_info_DSBS(alpha_1)\n",
        "C_2 = eval_Wyners_commom_info_DSBS(alpha_2)\n",
        "print(f'C_1 = {C_1: .5f}, C_2 = {C_2: .5f}')"
      ]
    },
    {
      "cell_type": "code",
      "execution_count": 12,
      "metadata": {
        "colab": {
          "base_uri": "https://localhost:8080/"
        },
        "id": "IJkLgbyK3MjK",
        "outputId": "58a80ea7-6bfa-4e32-9d1d-23e324b91d08"
      },
      "outputs": [
        {
          "output_type": "stream",
          "name": "stdout",
          "text": [
            "C_1_est =  0.70590, C_2_est =  0.26997\n"
          ]
        }
      ],
      "source": [
        "def eval_entropy(dist):\n",
        "  return - np.sum(np.where(dist != 0, dist * np.log2(dist), 0))\n",
        "\n",
        "def evaluate_cond_entropy(lambdas, X, Y):\n",
        "    q_joint = X.T @ np.diag(lambdas) @ Y\n",
        "    res = (-1) * np.sum(lambdas * (np.sum(np.where(X != 0, X * np.log2(X), 0), axis=1) + np.sum(np.where(Y != 0, Y * np.log2(Y), 0), axis=1)))\n",
        "    return res\n",
        "\n",
        "def estimate_Wyners_commom_info(lambdas, X, Y):\n",
        "  q_joint = X.T @ np.diag(lambdas) @ Y\n",
        "  return eval_entropy(q_joint) - evaluate_cond_entropy(lambdas, X, Y)\n",
        "\n",
        "def evaluate_D_KL(lambdas, X, Y, p_joint):\n",
        "    q_joint = X.T @ np.diag(lambdas) @ Y\n",
        "    p_joiny_entropy = - np.sum(np.where(p_joint != 0,p_joint * np.log(p_joint), 0))\n",
        "    res = (-1) * np.sum(np.where(p_joint != 0, p_joint * np.log(q_joint), 0)) - p_joiny_entropy\n",
        "    return res\n",
        "\n",
        "C_1_est = estimate_Wyners_commom_info(lambdas_1, X_1, Y_1)\n",
        "C_2_est = estimate_Wyners_commom_info(lambdas_2, X_2, Y_2)\n",
        "\n",
        "print(f'C_1_est = {C_1_est: .5f}, C_2_est = {C_2_est: .5f}')"
      ]
    },
    {
      "cell_type": "code",
      "execution_count": 13,
      "metadata": {
        "colab": {
          "base_uri": "https://localhost:8080/"
        },
        "id": "i8bXOeb353Xd",
        "outputId": "60056eca-9e8f-428d-f6ef-eec942a9a26c"
      },
      "outputs": [
        {
          "output_type": "stream",
          "name": "stdout",
          "text": [
            "C_XY_true =  0.975876\n",
            "C_XY_est =  0.975876\n"
          ]
        }
      ],
      "source": [
        "C_XY_true = C_1 + C_2\n",
        "print(f'C_XY_true = {C_XY_true: .6f}')\n",
        "C_XY_est = estimate_Wyners_commom_info(lambdas_true, X_true, Y_true)\n",
        "print(f'C_XY_est = {C_XY_est: .6f}')"
      ]
    },
    {
      "cell_type": "code",
      "execution_count": null,
      "metadata": {
        "colab": {
          "base_uri": "https://localhost:8080/"
        },
        "id": "vSBzjEEXONeR",
        "outputId": "7931d38b-614e-42fe-f37b-3766df2d6f3c"
      },
      "outputs": [
        {
          "name": "stdout",
          "output_type": "stream",
          "text": [
            "0    : distr proximity =  0.02922143, objective loss = -2.383060, consrt_aff_grad = 0.069163, obj_aff_grad = 1.482762, beta =  0.10000000, lr =  0.010000\n",
            "100  : distr proximity =  0.01295000, objective loss = -2.772589, consrt_aff_grad = 0.000617, obj_aff_grad = 0.171488, beta =  0.10000000, lr =  5.120000, step size = 0.00019340\n",
            "200  : distr proximity =  0.01295000, objective loss = -2.772589, consrt_aff_grad = 0.000617, obj_aff_grad = 0.171489, beta =  0.05000000, lr =  10.240000, step size = 0.00015924\n",
            "300  : distr proximity =  0.01295000, objective loss = -2.772589, consrt_aff_grad = 0.000618, obj_aff_grad = 0.171489, beta =  0.02500000, lr =  10.240000, step size = 0.00023121\n",
            "400  : distr proximity =  0.01178978, objective loss = -2.739218, consrt_aff_grad = 0.010417, obj_aff_grad = 0.345476, beta =  0.01250000, lr =  20.480000, step size = 0.04801394\n",
            "500  : distr proximity =  0.00217250, objective loss = -2.247703, consrt_aff_grad = 0.011268, obj_aff_grad = 1.746409, beta =  0.00625000, lr =  20.480000, step size = 0.00029148\n",
            "600  : distr proximity =  0.00182700, objective loss = -2.173590, consrt_aff_grad = 0.006233, obj_aff_grad = 1.927461, beta =  0.00312500, lr =  20.480000, step size = 0.00026505\n",
            "700  : distr proximity =  0.00173309, objective loss = -2.133391, consrt_aff_grad = 0.003282, obj_aff_grad = 2.028086, beta =  0.00156250, lr =  20.480000, step size = 0.00014369\n",
            "800  : distr proximity =  0.00170846, objective loss = -2.112334, consrt_aff_grad = 0.001686, obj_aff_grad = 2.081665, beta =  0.00078125, lr =  10.240000, step size = 0.00017948\n",
            "900  : distr proximity =  0.00170214, objective loss = -2.101537, consrt_aff_grad = 0.000857, obj_aff_grad = 2.109397, beta =  0.00039063, lr =  10.240000, step size = 0.00017046\n",
            "1000 : distr proximity =  0.00133907, objective loss = -1.946941, consrt_aff_grad = 0.001591, obj_aff_grad = 6.624135, beta =  0.00019531, lr =  40.960000, step size = 0.02486289\n",
            "1100 : distr proximity =  0.00125056, objective loss = -1.877607, consrt_aff_grad = 0.000734, obj_aff_grad = 9.050148, beta =  0.00009766, lr =  1.280000, step size = 0.00017057\n",
            "1200 : distr proximity =  0.00075874, objective loss = -1.807077, consrt_aff_grad = 0.001834, obj_aff_grad = 12.124622, beta =  0.00004883, lr =  10.240000, step size = 0.00765227\n",
            "1300 : distr proximity =  0.00047351, objective loss = -1.758666, consrt_aff_grad = 0.001340, obj_aff_grad = 13.166582, beta =  0.00002441, lr =  10.240000, step size = 0.00071318\n",
            "1400 : distr proximity =  0.00047002, objective loss = -1.759539, consrt_aff_grad = 0.001480, obj_aff_grad = 13.163103, beta =  0.00001221, lr =  10.240000, step size = 0.00032022\n",
            "1500 : distr proximity =  0.00046940, objective loss = -1.759643, consrt_aff_grad = 0.001506, obj_aff_grad = 13.162327, beta =  0.00000610, lr =  10.240000, step size = 0.00030729\n",
            "1600 : distr proximity =  0.00046927, objective loss = -1.759636, consrt_aff_grad = 0.001513, obj_aff_grad = 13.162109, beta =  0.00000305, lr =  40.960000, step size = 0.00035550\n",
            "1700 : distr proximity =  0.00046923, objective loss = -1.759622, consrt_aff_grad = 0.001513, obj_aff_grad = 13.162001, beta =  0.00000153, lr =  20.480000, step size = 0.00011678\n",
            "1800 : distr proximity =  0.00046922, objective loss = -1.759611, consrt_aff_grad = 0.001513, obj_aff_grad = 13.161964, beta =  0.00000076, lr =  20.480000, step size = 0.00017246\n",
            "1900 : distr proximity =  0.00046922, objective loss = -1.759605, consrt_aff_grad = 0.001513, obj_aff_grad = 13.161947, beta =  0.00000038, lr =  20.480000, step size = 0.00011894\n",
            "2000 : distr proximity =  0.00046922, objective loss = -1.759602, consrt_aff_grad = 0.001513, obj_aff_grad = 13.161938, beta =  0.00000019, lr =  10.240000, step size = 0.00024738\n",
            "2100 : distr proximity =  0.00046923, objective loss = -1.759600, consrt_aff_grad = 0.001514, obj_aff_grad = 13.161936, beta =  0.00000010, lr =  20.480000, step size = 0.00034256\n",
            "2200 : distr proximity =  0.00046922, objective loss = -1.759601, consrt_aff_grad = 0.001514, obj_aff_grad = 13.161935, beta =  0.00000010, lr =  20.480000, step size = 0.00023718\n",
            "2300 : distr proximity =  0.00046923, objective loss = -1.759600, consrt_aff_grad = 0.001514, obj_aff_grad = 13.161935, beta =  0.00000010, lr =  40.960000, step size = 0.00027818\n",
            "2400 : distr proximity =  0.00046922, objective loss = -1.759601, consrt_aff_grad = 0.001513, obj_aff_grad = 13.161935, beta =  0.00000010, lr =  20.480000, step size = 0.00009630\n",
            "2500 : distr proximity =  0.00046922, objective loss = -1.759601, consrt_aff_grad = 0.001513, obj_aff_grad = 13.161935, beta =  0.00000010, lr =  10.240000, step size = 0.00020105\n",
            "C_XY_estim =  1.153993, C_XY_true =  0.975876\n"
          ]
        },
        {
          "name": "stderr",
          "output_type": "stream",
          "text": [
            "<ipython-input-9-6a1c7111638d>:6: RuntimeWarning: divide by zero encountered in log2\n",
            "  res = (-1) * np.sum(lambdas * (np.sum(np.where(X != 0, X * np.log2(X), 0), axis=1) + np.sum(np.where(Y != 0, Y * np.log2(Y), 0), axis=1)))\n",
            "<ipython-input-9-6a1c7111638d>:6: RuntimeWarning: invalid value encountered in multiply\n",
            "  res = (-1) * np.sum(lambdas * (np.sum(np.where(X != 0, X * np.log2(X), 0), axis=1) + np.sum(np.where(Y != 0, Y * np.log2(Y), 0), axis=1)))\n"
          ]
        }
      ],
      "source": [
        "p_joint=p_XY\n",
        "s=4\n",
        "n_iters=2500\n",
        "params = {}\n",
        "params['lr_init']=0.01\n",
        "params['beta_init']=1e-1\n",
        "params['beta_decay_factor']=2\n",
        "params['beta_decay_every_iters']=100\n",
        "params['beta_min'] = 1e-7\n",
        "params['tol']=1e-8\n",
        "params['eps']=1e-8\n",
        "params['print_every'] = 100\n",
        "params['alpha'] = 1\n",
        "params['loss_type'] = 'l2'\n",
        "params['optim'] = 'GD'\n",
        "params['tau1'] = 1\n",
        "params['tau2'] = 10\n",
        "\n",
        "solver_GD = WynerProblemSolver(p_joint, s, n_iters, **params)\n",
        "lambdas, X, Y = solver_GD.train()\n",
        "\n",
        "cond_entropy = evaluate_cond_entropy(lambdas, X, Y)\n",
        "C_XY_estim = estimate_Wyners_commom_info(lambdas, X, Y)\n",
        "print(f'C_XY_estim = {C_XY_estim: .6f}, C_XY_true = {C_XY_true: .6f}')"
      ]
    },
    {
      "cell_type": "code",
      "execution_count": null,
      "metadata": {
        "colab": {
          "background_save": true,
          "base_uri": "https://localhost:8080/"
        },
        "id": "RKEiIT3USi8r",
        "outputId": "d749d036-1f6e-4d58-d890-590712572852"
      },
      "outputs": [
        {
          "name": "stdout",
          "output_type": "stream",
          "text": [
            "proximity =  0.00000000, C_XY_estim - C_XY_true =  0.280997\n",
            "proximity =  0.00000000, C_XY_estim - C_XY_true =  0.258773\n"
          ]
        },
        {
          "name": "stderr",
          "output_type": "stream",
          "text": [
            "<ipython-input-9-6a1c7111638d>:6: RuntimeWarning: divide by zero encountered in log2\n",
            "  res = (-1) * np.sum(lambdas * (np.sum(np.where(X != 0, X * np.log2(X), 0), axis=1) + np.sum(np.where(Y != 0, Y * np.log2(Y), 0), axis=1)))\n",
            "<ipython-input-9-6a1c7111638d>:6: RuntimeWarning: invalid value encountered in multiply\n",
            "  res = (-1) * np.sum(lambdas * (np.sum(np.where(X != 0, X * np.log2(X), 0), axis=1) + np.sum(np.where(Y != 0, Y * np.log2(Y), 0), axis=1)))\n"
          ]
        },
        {
          "name": "stdout",
          "output_type": "stream",
          "text": [
            "proximity =  0.00050464, C_XY_estim - C_XY_true =  0.182463\n",
            "proximity =  0.00000000, C_XY_estim - C_XY_true =  0.332012\n",
            "proximity =  0.00046922, C_XY_estim - C_XY_true =  0.178118\n",
            "proximity =  0.00170000, C_XY_estim - C_XY_true = -0.269962\n",
            "proximity =  0.00050464, C_XY_estim - C_XY_true =  0.182427\n",
            "proximity =  0.00046922, C_XY_estim - C_XY_true =  0.178118\n",
            "proximity =  0.00046922, C_XY_estim - C_XY_true =  0.178118\n",
            "proximity =  0.00169999, C_XY_estim - C_XY_true = -0.269078\n",
            "proximity =  0.00170000, C_XY_estim - C_XY_true = -0.269972\n",
            "proximity =  0.00046951, C_XY_estim - C_XY_true =  0.178170\n",
            "proximity =  0.00170000, C_XY_estim - C_XY_true = -0.269971\n",
            "proximity =  0.00050464, C_XY_estim - C_XY_true =  0.182464\n",
            "proximity =  0.00000000, C_XY_estim - C_XY_true =  0.056013\n",
            "proximity =  0.00000000, C_XY_estim - C_XY_true =  0.266563\n",
            "proximity =  0.00046922, C_XY_estim - C_XY_true =  0.178118\n",
            "proximity =  0.00050464, C_XY_estim - C_XY_true =  0.182426\n",
            "proximity =  0.00046922, C_XY_estim - C_XY_true =  0.178118\n",
            "proximity =  0.00170000, C_XY_estim - C_XY_true = -0.269974\n",
            "proximity =  0.00000000, C_XY_estim - C_XY_true =  0.275247\n",
            "proximity =  0.00000000, C_XY_estim - C_XY_true =  0.339938\n",
            "proximity =  0.00000000, C_XY_estim - C_XY_true =  0.227344\n",
            "proximity =  0.00000000, C_XY_estim - C_XY_true =  0.184872\n",
            "proximity =  0.00050464, C_XY_estim - C_XY_true =  0.182431\n",
            "proximity =  0.00170000, C_XY_estim - C_XY_true = -0.269971\n",
            "proximity =  0.00046922, C_XY_estim - C_XY_true =  0.178118\n",
            "proximity =  0.00000000, C_XY_estim - C_XY_true =  0.387096\n",
            "proximity =  0.00046922, C_XY_estim - C_XY_true =  0.178118\n",
            "proximity =  0.00170000, C_XY_estim - C_XY_true = -0.269974\n",
            "proximity =  0.00170000, C_XY_estim - C_XY_true = -0.269974\n",
            "proximity =  0.00170000, C_XY_estim - C_XY_true = -0.269974\n",
            "proximity =  0.00170000, C_XY_estim - C_XY_true = -0.269974\n",
            "proximity =  0.00046922, C_XY_estim - C_XY_true =  0.178118\n",
            "proximity =  0.00000000, C_XY_estim - C_XY_true =  0.387743\n",
            "proximity =  0.00000000, C_XY_estim - C_XY_true =  0.021887\n",
            "proximity =  0.00046922, C_XY_estim - C_XY_true =  0.178118\n",
            "proximity =  0.00050464, C_XY_estim - C_XY_true =  0.182431\n",
            "proximity =  0.00046922, C_XY_estim - C_XY_true =  0.178118\n",
            "proximity =  0.00050464, C_XY_estim - C_XY_true =  0.182433\n",
            "proximity =  0.00170000, C_XY_estim - C_XY_true = -0.269978\n",
            "proximity =  0.00170000, C_XY_estim - C_XY_true = -0.269971\n",
            "proximity =  0.00000000, C_XY_estim - C_XY_true =  0.007279\n",
            "proximity =  0.00050464, C_XY_estim - C_XY_true =  0.182427\n",
            "proximity =  0.00170000, C_XY_estim - C_XY_true = -0.269983\n",
            "proximity =  0.00000000, C_XY_estim - C_XY_true =  0.371432\n",
            "proximity =  0.00170000, C_XY_estim - C_XY_true = -0.269965\n",
            "proximity =  0.00050464, C_XY_estim - C_XY_true =  0.182463\n",
            "proximity =  0.00046922, C_XY_estim - C_XY_true =  0.178118\n",
            "proximity =  0.00170000, C_XY_estim - C_XY_true = -0.269971\n"
          ]
        }
      ],
      "source": [
        "p_joint=p_XY\n",
        "s=4\n",
        "n_iters=3000\n",
        "params = {}\n",
        "params['lr_init']=0.01\n",
        "params['beta_init']=3e-2\n",
        "params['beta_decay_factor']=2\n",
        "params['beta_decay_every_iters']=100\n",
        "params['beta_min'] = 1e-9\n",
        "params['tol']=1e-8\n",
        "params['eps']=1e-8\n",
        "params['print_every'] = None\n",
        "params['alpha'] = 1\n",
        "params['loss_type'] = 'l2'\n",
        "params['optim'] = 'GD'\n",
        "params['tau1'] = 1\n",
        "params['tau2'] = 10\n",
        "\n",
        "C_XY_estim = []\n",
        "proximity_final = []\n",
        "\n",
        "for _ in range(50):\n",
        "  solver_GD = WynerProblemSolver(p_joint, s, n_iters, **params)\n",
        "  lambdas, X, Y = solver_GD.train()\n",
        "  C_XY_estim.append(estimate_Wyners_commom_info(lambdas, X, Y))\n",
        "  proximity_final.append(solver_GD.eval_L2_loss(lambdas, X, Y))\n",
        "  print(f'proximity = {proximity_final[-1]: .8f}, C_XY_estim - C_XY_true = {C_XY_estim[-1] - C_XY_true: .6f}')"
      ]
    }
  ],
  "metadata": {
    "colab": {
      "collapsed_sections": [
        "obI516N1iXw-"
      ],
      "toc_visible": true,
      "provenance": []
    },
    "kernelspec": {
      "display_name": "Python 3",
      "name": "python3"
    },
    "language_info": {
      "name": "python"
    }
  },
  "nbformat": 4,
  "nbformat_minor": 0
}